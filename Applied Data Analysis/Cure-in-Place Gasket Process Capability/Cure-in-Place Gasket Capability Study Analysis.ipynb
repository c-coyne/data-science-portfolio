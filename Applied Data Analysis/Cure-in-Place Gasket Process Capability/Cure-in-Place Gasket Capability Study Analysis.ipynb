{
 "cells": [
  {
   "cell_type": "markdown",
   "metadata": {},
   "source": [
    "# CIPG Capability Study"
   ]
  },
  {
   "cell_type": "markdown",
   "metadata": {},
   "source": [
    "This project examines data from a capability study on a liquid-dispensed cure-in-place gasket (CIPG), which is a gasket technology that is applied to the architecture as a liquid, cures in place, then acts as a serviceable compression gasket for the duration of the assembly lifetime. An example part is shown below. "
   ]
  },
  {
   "cell_type": "markdown",
   "metadata": {},
   "source": [
    "<img src=\"2020-12-18 CIPG capability study part.PNG\" align=\"center\"/>"
   ]
  },
  {
   "cell_type": "markdown",
   "metadata": {},
   "source": [
    "The data consists of 4,574 measurements of (1) gasket dry height, (2) gasket dry width, (3) gasket dry area, (4) gasket wet height, (5) gasket wet width, and (6) gasket wet area. There are five parts considered in this study. Samples 2-5 were measured both wet and dry, and Sample 1 was measured only dry. Therefore, the resulting dataset has 128,072 datapoints. Additionally, the part contains corners of four different radii, as noted below. This is important, as only the 40mm corner needs to meet capability based on production-intent designs."
   ]
  },
  {
   "cell_type": "markdown",
   "metadata": {},
   "source": [
    "<img src=\"2020-12-18 CIPG capability study path.PNG\" align=\"center\"/>"
   ]
  },
  {
   "cell_type": "markdown",
   "metadata": {},
   "source": [
    "## 1. Dry Height"
   ]
  },
  {
   "cell_type": "markdown",
   "metadata": {},
   "source": [
    "The most important measurement is the dry height of the CIPG, as this will directly impact gasket compression and therefore product performance. Let's therefore take a look at dry height capability data."
   ]
  },
  {
   "cell_type": "markdown",
   "metadata": {},
   "source": [
    "### 1.1 Preparing the Data"
   ]
  },
  {
   "cell_type": "markdown",
   "metadata": {},
   "source": [
    "First, we have to read the dataset from an Excel file and prepare it. We will do this by loading it into a pandas dataframe, then building separate lists spanning all five parts for the separate evaluation criteria (1 = all data, 2 = no overlap, 3 = no corners, 4 = straight lengths + 40mm radius corner)."
   ]
  },
  {
   "cell_type": "markdown",
   "metadata": {},
   "source": [
    "#### 1.1.1 Reading in the data"
   ]
  },
  {
   "cell_type": "code",
   "execution_count": 2,
   "metadata": {},
   "outputs": [],
   "source": [
    "# Set up our libraries\n",
    "import pandas as pd\n",
    "import numpy as np\n",
    "import scipy as sp\n",
    "from scipy import stats, optimize, interpolate\n",
    "from statsmodels.graphics.gofplots import qqplot\n",
    "from scipy.stats import normaltest\n",
    "import matplotlib.pyplot as plt\n",
    "%matplotlib inline"
   ]
  },
  {
   "cell_type": "code",
   "execution_count": 3,
   "metadata": {},
   "outputs": [
    {
     "name": "stderr",
     "output_type": "stream",
     "text": [
      "C:\\Users\\CCOYNE1\\AppData\\Local\\Continuum\\anaconda3\\lib\\site-packages\\pandas\\util\\_decorators.py:188: FutureWarning: The `sheetname` keyword is deprecated, use `sheet_name` instead\n",
      "  return func(*args, **kwargs)\n"
     ]
    }
   ],
   "source": [
    "# Get the path for the Excel file\n",
    "path = r'2020-11-20 capability raw data.xlsx'\n",
    "\n",
    "# Read data in from Excel file to pandas dataframe\n",
    "df = pd.read_excel(path, sheetname=0)\n",
    "# This is our first dataframe, [1] all data"
   ]
  },
  {
   "cell_type": "markdown",
   "metadata": {},
   "source": [
    "#### 1.1.2 Creating dataframes & lists"
   ]
  },
  {
   "cell_type": "code",
   "execution_count": 4,
   "metadata": {},
   "outputs": [],
   "source": [
    "# Write a function to take in a dataframe and divide it up into lists\n",
    "def divide_dataframe(df):\n",
    "    lst1, lst2, lst3, lst4 = [], [], [], []\n",
    "    for column in df.columns:\n",
    "        if \"WHeight\" in column:\n",
    "            for item in df[column]:\n",
    "                lst1.append(item)\n",
    "        if \"WWidth\" in column:\n",
    "            for item in df[column]:\n",
    "                lst2.append(item)\n",
    "        if \"DHeight\" in column:\n",
    "            for item in df[column]:\n",
    "                lst3.append(item)\n",
    "        if \"DWidth\" in column:\n",
    "            for item in df[column]:\n",
    "                lst4.append(item)\n",
    "    return lst1, lst2, lst3, lst4"
   ]
  },
  {
   "cell_type": "markdown",
   "metadata": {},
   "source": [
    "Remember, there are four dataframes that we want to set up: (1) all data, (2) no overlap, (3) no corners, (4) straight lengths + 40mm radius corner."
   ]
  },
  {
   "cell_type": "code",
   "execution_count": 5,
   "metadata": {},
   "outputs": [],
   "source": [
    "# Break the original dataframe into lists\n",
    "wh_od, ww_od, dh_od, dw_od = divide_dataframe(df)\n",
    "\n",
    "# Set up a dataframe for [2] no overlap & divide it into lists\n",
    "df_nooverlap = df.loc[(df['Location'] != 'OVERLAP')]\n",
    "wh_no, ww_no, dh_no, dw_no = divide_dataframe(df_nooverlap)\n",
    "\n",
    "# Set up a dataframe for [3] straight lengths only (no corners) & divide it into lists\n",
    "df_nocorners = df.loc[(df['Location'] == 'TOP STRAIGHT (LEFT)') | (df['Location'] == 'LEFT STRAIGHT') | \n",
    "        (df['Location'] == 'BOTTOM STRAIGHT') | (df['Location'] == 'RIGHT STRAIGHT') | \n",
    "        (df['Location'] == 'TOP STRAIGHT (RIGHT)')]\n",
    "wh_nc, ww_nc, dh_nc, dw_nc = divide_dataframe(df_nocorners)\n",
    "\n",
    "# Set up a dataframe for [4] straight lengths + 40mm corner only (only40) & divide it into lists\n",
    "df_only40 = df.loc[(df['Location'] == 'TOP STRAIGHT (LEFT)') | (df['Location'] == 'LEFT STRAIGHT') | \n",
    "        (df['Location'] == 'BOTTOM STRAIGHT') | (df['Location'] == 'RIGHT STRAIGHT') | \n",
    "        (df['Location'] == 'TOP STRAIGHT (RIGHT)') | (df['Location'] == 'THIRD CORNER (40 mm RADIUS)')]\n",
    "wh_o4, ww_o4, dh_o4, dw_o4 = divide_dataframe(df_only40)"
   ]
  },
  {
   "cell_type": "markdown",
   "metadata": {},
   "source": [
    "### 1.2 Analyzing & visualizing the data"
   ]
  },
  {
   "cell_type": "markdown",
   "metadata": {},
   "source": [
    "Now that the data has been prepared and cleaned, we can run statistical analysis and visualize the results."
   ]
  },
  {
   "cell_type": "markdown",
   "metadata": {},
   "source": [
    "#### 1.2.1 Visualizing the data"
   ]
  },
  {
   "cell_type": "markdown",
   "metadata": {},
   "source": [
    "Let's first write a function that will characterize a distribution. This is done below. This function determines the best-fit distribution amongst weibull, normal, beta, inverse gaussian, uniform, gamma, exponential, and lognormal distributions using a Chi-Square Goodness of Fit test."
   ]
  },
  {
   "cell_type": "code",
   "execution_count": 6,
   "metadata": {},
   "outputs": [],
   "source": [
    "def best_fit(data):\n",
    "\n",
    "    dist_names = ['weibull_min', 'norm', 'weibull_max', 'beta', 'invgauss', 'uniform', 'gamma', 'expon', 'lognorm']\n",
    "\n",
    "    chi_square_statistics = []\n",
    "    # 11 equi-distant bins of observed Data \n",
    "    percentile_bins = np.linspace(0,100,11)\n",
    "    percentile_cutoffs = np.percentile(data, percentile_bins)\n",
    "    observed_frequency, bins = (np.histogram(data, bins=percentile_cutoffs))\n",
    "    cum_observed_frequency = np.cumsum(observed_frequency)\n",
    "\n",
    "    # Loop through candidate distributions\n",
    "    for distribution in dist_names:\n",
    "        # Set up distribution and get fitted distribution parameters\n",
    "        dist = getattr(sp.stats, distribution)\n",
    "        param = dist.fit(data)\n",
    "\n",
    "        # Get expected counts in percentile bins\n",
    "        # cdf of fitted sistrinution across bins\n",
    "        cdf_fitted = dist.cdf(percentile_cutoffs, *param)\n",
    "        expected_frequency = []\n",
    "        for bin in range(len(percentile_bins)-1):\n",
    "            expected_cdf_area = cdf_fitted[bin+1] - cdf_fitted[bin]\n",
    "            expected_frequency.append(expected_cdf_area)\n",
    "\n",
    "        # Chi-square Statistics\n",
    "        expected_frequency = np.array(expected_frequency) * len(data)\n",
    "        cum_expected_frequency = np.cumsum(expected_frequency)\n",
    "        ss = sum (((cum_expected_frequency - cum_observed_frequency) ** 2) / cum_observed_frequency)\n",
    "        chi_square_statistics.append(ss)\n",
    "\n",
    "    #Sort by minimum ch-square statistics\n",
    "    results = pd.DataFrame()\n",
    "    results['Distribution'] = dist_names\n",
    "    results['chi_square'] = chi_square_statistics\n",
    "    results.sort_values(['chi_square'], inplace=True)\n",
    "\n",
    "    print ('\\nDistributions listed by Betterment of fit:')\n",
    "    print ('............................................')\n",
    "    print (results)"
   ]
  },
  {
   "cell_type": "markdown",
   "metadata": {},
   "source": [
    "#### 1.2.2 Full dataset"
   ]
  },
  {
   "cell_type": "markdown",
   "metadata": {},
   "source": [
    "First, let's analyze the dry height data using all data collected. Below, we'll create a histogram of the data and fit a normal distribution curve to assess normality."
   ]
  },
  {
   "cell_type": "code",
   "execution_count": 7,
   "metadata": {},
   "outputs": [
    {
     "name": "stdout",
     "output_type": "stream",
     "text": [
      "Statistic = 11615.298, p = 0.00000\n"
     ]
    },
    {
     "data": {
      "image/png": "[encoded data removed]",
      "text/plain": [
       "<Figure size 432x288 with 1 Axes>"
      ]
     },
     "metadata": {
      "needs_background": "light"
     },
     "output_type": "display_data"
    },
    {
     "data": {
      "image/png": "[encoded data removed]",
      "text/plain": [
       "<Figure size 432x288 with 1 Axes>"
      ]
     },
     "metadata": {
      "needs_background": "light"
     },
     "output_type": "display_data"
    }
   ],
   "source": [
    "# Build histogram with fitted line assuming normal distribution\n",
    "myHist = plt.hist(dh_od, 100, density=1, alpha=0.5)\n",
    "\n",
    "xt = plt.xticks()[0]\n",
    "xmin, xmax = min(xt), max(xt)\n",
    "lnspc = np.linspace(xmin, xmax, len(dh_od))\n",
    "\n",
    "m, s = stats.norm.fit(dh_od)\n",
    "pdf_g = stats.norm.pdf(lnspc, m, s)\n",
    "plt.plot(lnspc, pdf_g, label=\"Norm\");\n",
    "\n",
    "# Build quantile-quantile plot to visually assess normality\n",
    "qq = qqplot(np.array(dh_od), line = 's')\n",
    "\n",
    "# Calculate the statistics to identify if this distribution is normally distributed\n",
    "stat, p = normaltest(dh_od)\n",
    "print('Statistic = %.3f, p = %.5f' % (stat, p))"
   ]
  },
  {
   "cell_type": "markdown",
   "metadata": {},
   "source": [
    "From the histogram and the p-value above, we can tell this data is non-normal. We can also see that it appears bimodal. Let's eliminate the corners that are smaller than 40mm radius (because they're not included in the production-intent design anyway) and see if the resulting dataset is normal."
   ]
  },
  {
   "cell_type": "markdown",
   "metadata": {},
   "source": [
    "#### 1.2.3 Full dataset minus sub-40mm corners (i.e. keep the straight lengths and the 40mm corner)"
   ]
  },
  {
   "cell_type": "code",
   "execution_count": 9,
   "metadata": {},
   "outputs": [
    {
     "name": "stdout",
     "output_type": "stream",
     "text": [
      "Statistic = 7877.062, p = 0.00000\n"
     ]
    },
    {
     "data": {
      "image/png": "[encoded data removed]",
      "text/plain": [
       "<Figure size 432x288 with 1 Axes>"
      ]
     },
     "metadata": {
      "needs_background": "light"
     },
     "output_type": "display_data"
    },
    {
     "data": {
      "image/png": "[encoded data removed]",
      "text/plain": [
       "<Figure size 432x288 with 1 Axes>"
      ]
     },
     "metadata": {
      "needs_background": "light"
     },
     "output_type": "display_data"
    }
   ],
   "source": [
    "# Build histogram with fitted line assuming normal distribution\n",
    "myHist1 = plt.hist(dh_o4, 100, density=1, alpha=0.5)\n",
    "\n",
    "xt = plt.xticks()[0]\n",
    "xmin, xmax = min(xt), max(xt)\n",
    "lnspc = np.linspace(xmin, xmax, len(dh_o4))\n",
    "\n",
    "m, s = stats.norm.fit(dh_o4)\n",
    "pdf_g = stats.norm.pdf(lnspc, m, s)\n",
    "plt.plot(lnspc, pdf_g, label=\"Norm\");\n",
    "\n",
    "# Build quantile-quantile plot to visually assess normality\n",
    "qq = qqplot(np.array(dh_o4), line = 's')\n",
    "\n",
    "# Calculate the statistics to identify if this distribution is normally distributed\n",
    "stat, p = normaltest(dh_o4)\n",
    "print('Statistic = %.3f, p = %.5f' % (stat, p))"
   ]
  },
  {
   "cell_type": "markdown",
   "metadata": {},
   "source": [
    "It's obvious from the plots shown above that the data appears normal but has a larger-than-expected proportion of larger data points. Let's see if we can find out which region is causing the data to be non-normal..."
   ]
  },
  {
   "cell_type": "code",
   "execution_count": 10,
   "metadata": {},
   "outputs": [
    {
     "name": "stdout",
     "output_type": "stream",
     "text": [
      "           TOP STRAIGHT (LEFT): 77\n",
      "    FIRST CORNER (30mm RADIUS): 0\n",
      "                 LEFT STRAIGHT: 0\n",
      "   SECOND CORNER (25mm RADIUS): 0\n",
      "               BOTTOM STRAIGHT: 0\n",
      "   THIRD CORNER (40 mm RADIUS): 0\n",
      "                RIGHT STRAIGHT: 4\n",
      "   FOURTH CORNER (35mm RADIUS): 0\n",
      "          TOP STRAIGHT (RIGHT): 59\n",
      "                       OVERLAP: 0\n"
     ]
    }
   ],
   "source": [
    "threshold = 5\n",
    "\n",
    "df_large = df_only40.loc[(df_only40['S1 DHeight'] > threshold) | (df_only40['S2 DHeight'] > threshold) | \n",
    "                         (df_only40['S3 DHeight'] > threshold) | (df_only40['S4 DHeight'] > threshold) | \n",
    "                         (df_only40['S5 DHeight'] > threshold)]\n",
    "loc_list = df_large['Location'].tolist()\n",
    "header_list = ['TOP STRAIGHT (LEFT)', 'FIRST CORNER (30mm RADIUS)', 'LEFT STRAIGHT', 'SECOND CORNER (25mm RADIUS)',\n",
    "               'BOTTOM STRAIGHT', 'THIRD CORNER (40 mm RADIUS)', 'RIGHT STRAIGHT', 'FOURTH CORNER (35mm RADIUS)', \n",
    "               'TOP STRAIGHT (RIGHT)', 'OVERLAP']\n",
    "for item in header_list:\n",
    "    print('{:>30}: {}'.format(item, loc_list.count(item)))\n",
    "#    print(item, \": \", loc_list.count(item))"
   ]
  },
  {
   "cell_type": "markdown",
   "metadata": {},
   "source": [
    "The cell above reveals that 95% of measurements over 5mm are contained in the top left straight. Measured dry, this section is likely impacted by the overlap in the robot's dispense path, so let's remove it from the dataset and see if our data becomes normal."
   ]
  },
  {
   "cell_type": "code",
   "execution_count": 11,
   "metadata": {},
   "outputs": [
    {
     "name": "stdout",
     "output_type": "stream",
     "text": [
      "Statistics = 555.912, p = 0.00000\n"
     ]
    },
    {
     "data": {
      "image/png": "[encoded data removed]",
      "text/plain": [
       "<Figure size 432x288 with 1 Axes>"
      ]
     },
     "metadata": {
      "needs_background": "light"
     },
     "output_type": "display_data"
    },
    {
     "data": {
      "image/png": "[encoded data removed]",
      "text/plain": [
       "<Figure size 432x288 with 1 Axes>"
      ]
     },
     "metadata": {
      "needs_background": "light"
     },
     "output_type": "display_data"
    }
   ],
   "source": [
    "# Create a dataset that ignores the data above 5mm\n",
    "dh_o4_sub5 = [item for item in dh_o4 if item < threshold]\n",
    "\n",
    "# Build histogram with fitted line assuming normal distribution\n",
    "myHist2 = plt.hist(dh_o4_sub5, 100, density=1, alpha=0.5)\n",
    "\n",
    "xt = plt.xticks()[0]\n",
    "xmin, xmax = min(xt), max(xt)\n",
    "lnspc = np.linspace(xmin, xmax, len(dh_o4_sub5))\n",
    "\n",
    "m, s = stats.norm.fit(dh_o4_sub5)\n",
    "pdf_g = stats.norm.pdf(lnspc, m, s)\n",
    "plt.plot(lnspc, pdf_g, label=\"Norm\");\n",
    "\n",
    "# Build quantile-quantile plot to visually assess normality\n",
    "qq = qqplot(np.array(dh_o4_sub5), line = 's')\n",
    "\n",
    "# Calculate the statistics to identify if this distribution is normally distributed\n",
    "stat, p = normaltest(dh_o4_sub5)\n",
    "print('Statistics = %.3f, p = %.5f' % (stat, p))"
   ]
  },
  {
   "cell_type": "markdown",
   "metadata": {},
   "source": [
    "Our data now *looks* a little more normal but is still is non-normal. Therefore, let's see what distribution best fits our data."
   ]
  },
  {
   "cell_type": "code",
   "execution_count": 12,
   "metadata": {},
   "outputs": [
    {
     "name": "stdout",
     "output_type": "stream",
     "text": [
      "\n",
      "Distributions listed by Betterment of fit:\n",
      "............................................\n",
      "  Distribution    chi_square\n",
      "8      lognorm    133.233351\n",
      "4     invgauss    139.274447\n",
      "6        gamma    141.784201\n",
      "2  weibull_max    144.361531\n",
      "3         beta    166.819671\n",
      "1         norm    263.797893\n",
      "0  weibull_min    270.577206\n",
      "5      uniform   9531.805336\n",
      "7        expon  35795.249287\n"
     ]
    }
   ],
   "source": [
    "best_fit(dh_o4_sub5)"
   ]
  },
  {
   "cell_type": "markdown",
   "metadata": {},
   "source": [
    "### 1.3 Exporting the data"
   ]
  },
  {
   "cell_type": "markdown",
   "metadata": {},
   "source": [
    "At this point, let's export the data so that we can analyze in Minitab."
   ]
  },
  {
   "cell_type": "code",
   "execution_count": 13,
   "metadata": {},
   "outputs": [],
   "source": [
    "# 40mm only sub-5mm measurements\n",
    "df_dh_o4_sub5 = pd.DataFrame(dh_o4_sub5, columns=['Dry Height (mm)'])\n",
    "df_dh_o4_sub5.to_csv(r'C:\\Users\\CCOYNE1\\Desktop\\ML\\2020-11-21 only40 sub5.csv', index = False)"
   ]
  },
  {
   "cell_type": "code",
   "execution_count": 14,
   "metadata": {},
   "outputs": [],
   "source": [
    "# No overlap\n",
    "df_dh_no = pd.DataFrame(dh_no, columns=['Dry Height (mm)'])\n",
    "df_dh_no.to_csv(r'C:\\Users\\CCOYNE1\\Desktop\\ML\\2020-11-21 no overlap.csv', index = False)"
   ]
  },
  {
   "cell_type": "code",
   "execution_count": 15,
   "metadata": {},
   "outputs": [],
   "source": [
    "# No corners\n",
    "df_dh_nc = pd.DataFrame(dh_nc, columns=['Dry Height (mm)'])\n",
    "df_dh_nc.to_csv(r'C:\\Users\\CCOYNE1\\Desktop\\ML\\2020-11-23 no corners.csv', index = False)"
   ]
  },
  {
   "cell_type": "code",
   "execution_count": 16,
   "metadata": {},
   "outputs": [],
   "source": [
    "# Only 40mm radius corner\n",
    "df_dh_o4 = pd.DataFrame(dh_o4, columns=['Dry Height (mm)'])\n",
    "df_dh_o4.to_csv(r'C:\\Users\\CCOYNE1\\Desktop\\ML\\2020-11-23 only 40mm corner.csv', index = False)"
   ]
  },
  {
   "cell_type": "code",
   "execution_count": 17,
   "metadata": {},
   "outputs": [],
   "source": [
    "# All data (original dataframe)\n",
    "df_dh_od = pd.DataFrame(dh_od, columns=['Dry Height (mm)'])\n",
    "df_dh_od.to_csv(r'C:\\Users\\CCOYNE1\\Desktop\\ML\\2020-11-23 all data.csv', index = False)"
   ]
  }
 ],
 "metadata": {
  "kernelspec": {
   "display_name": "Python 3",
   "language": "python",
   "name": "python3"
  },
  "language_info": {
   "codemirror_mode": {
    "name": "ipython",
    "version": 3
   },
   "file_extension": ".py",
   "mimetype": "text/x-python",
   "name": "python",
   "nbconvert_exporter": "python",
   "pygments_lexer": "ipython3",
   "version": "3.7.3"
  }
 },
 "nbformat": 4,
 "nbformat_minor": 2
}
